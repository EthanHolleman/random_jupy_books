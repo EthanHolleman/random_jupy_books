{
 "metadata": {
  "language_info": {
   "codemirror_mode": {
    "name": "ipython",
    "version": 3
   },
   "file_extension": ".py",
   "mimetype": "text/x-python",
   "name": "python",
   "nbconvert_exporter": "python",
   "pygments_lexer": "ipython3",
   "version": "3.8.5"
  },
  "orig_nbformat": 2,
  "kernelspec": {
   "name": "python385jvsc74a57bd0cc95a05ee292c3c2f964fc78598572f76787e7a8096f8ebf0be25011483d6eb7",
   "display_name": "Python 3.8.5 64-bit ('fucking_around': conda)"
  },
  "metadata": {
   "interpreter": {
    "hash": "cc95a05ee292c3c2f964fc78598572f76787e7a8096f8ebf0be25011483d6eb7"
   }
  }
 },
 "nbformat": 4,
 "nbformat_minor": 2,
 "cells": [
  {
   "source": [
    "# Duplicate an image into a repeating grid"
   ],
   "cell_type": "markdown",
   "metadata": {}
  },
  {
   "cell_type": "code",
   "execution_count": 2,
   "metadata": {},
   "outputs": [],
   "source": [
    "from PIL import Image"
   ]
  },
  {
   "cell_type": "code",
   "execution_count": 15,
   "metadata": {},
   "outputs": [],
   "source": [
    "IMAGE_PATH = '/home/ethan/Downloads/maxresdefault.jpg'\n",
    "GRID_PATH = 'grid.png'\n",
    "grid_size = 10, 10  # in images\n",
    "image_size = 128, 128  # in pixels"
   ]
  },
  {
   "cell_type": "code",
   "execution_count": 23,
   "metadata": {},
   "outputs": [],
   "source": [
    "grid = Image.new(mode='RGB', size=(grid_size[0]*image_size[0], grid_size[1]*image_size[1]))\n",
    "with Image.open(IMAGE_PATH) as im:\n",
    "    im = im.resize(image_size)\n",
    "    for i in range(grid_size[0]):\n",
    "        for j in range(grid_size[1]):\n",
    "            cell_coord = j*image_size[1], image_size[0] * i\n",
    "            grid.paste(im, cell_coord)\n",
    "grid.save(GRID_PATH)"
   ]
  },
  {
   "cell_type": "code",
   "execution_count": 10,
   "metadata": {},
   "outputs": [],
   "source": [
    "grid.show()"
   ]
  }
 ]
}